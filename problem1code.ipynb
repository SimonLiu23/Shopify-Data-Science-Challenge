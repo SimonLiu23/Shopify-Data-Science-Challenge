{
 "cells": [
  {
   "cell_type": "markdown",
   "id": "11745aad",
   "metadata": {},
   "source": [
    "## Import Libraries + Load Data"
   ]
  },
  {
   "cell_type": "code",
   "execution_count": 74,
   "id": "53b24b3f",
   "metadata": {},
   "outputs": [],
   "source": [
    "import numpy as np\n",
    "import pandas as pd\n",
    "\n",
    "df = pd.read_csv('problem1.csv')"
   ]
  },
  {
   "cell_type": "markdown",
   "id": "18a97e4a",
   "metadata": {},
   "source": [
    "## Exploratory Metrics Analysis"
   ]
  },
  {
   "cell_type": "code",
   "execution_count": 75,
   "id": "dfc3027e",
   "metadata": {},
   "outputs": [
    {
     "data": {
      "text/plain": [
       "count      5000.000000\n",
       "mean       3145.128000\n",
       "std       41282.539349\n",
       "min          90.000000\n",
       "25%         163.000000\n",
       "50%         284.000000\n",
       "75%         390.000000\n",
       "max      704000.000000\n",
       "Name: order_amount, dtype: float64"
      ]
     },
     "execution_count": 75,
     "metadata": {},
     "output_type": "execute_result"
    }
   ],
   "source": [
    "# Observing general metrics and spread\n",
    "df['order_amount'].describe()"
   ]
  },
  {
   "cell_type": "code",
   "execution_count": 76,
   "id": "4a0798be",
   "metadata": {},
   "outputs": [
    {
     "name": "stdout",
     "output_type": "stream",
     "text": [
      "median:  284.0\n"
     ]
    }
   ],
   "source": [
    "# Observing median\n",
    "print('median: ', np.median(df['order_amount']))"
   ]
  },
  {
   "cell_type": "markdown",
   "id": "0dd772fd",
   "metadata": {},
   "source": [
    "## Exploratory Plots"
   ]
  },
  {
   "cell_type": "code",
   "execution_count": 77,
   "id": "c59244b2",
   "metadata": {},
   "outputs": [
    {
     "data": {
      "text/plain": [
       "<AxesSubplot:>"
      ]
     },
     "execution_count": 77,
     "metadata": {},
     "output_type": "execute_result"
    },
    {
     "data": {
      "image/png": "[encoded data removed]",
      "text/plain": [
       "<Figure size 432x288 with 1 Axes>"
      ]
     },
     "metadata": {
      "needs_background": "light"
     },
     "output_type": "display_data"
    }
   ],
   "source": [
    "# Histogram plot\n",
    "df['order_amount'].hist()"
   ]
  },
  {
   "cell_type": "code",
   "execution_count": 78,
   "id": "7fef0151",
   "metadata": {},
   "outputs": [
    {
     "data": {
      "text/plain": [
       "<AxesSubplot:>"
      ]
     },
     "execution_count": 78,
     "metadata": {},
     "output_type": "execute_result"
    },
    {
     "data": {
      "image/png": "[encoded data removed]",
      "text/plain": [
       "<Figure size 432x288 with 1 Axes>"
      ]
     },
     "metadata": {
      "needs_background": "light"
     },
     "output_type": "display_data"
    }
   ],
   "source": [
    "# Boxplot\n",
    "df.boxplot(column='order_amount')"
   ]
  },
  {
   "cell_type": "markdown",
   "id": "1192dec8",
   "metadata": {},
   "source": [
    "<font color='red'>Observation:</font> Exploratory analysis suggests extreme outliers to be skewing the order amount data, evident by an unusual max order amount (704000), and a large standard deviation (41282) relative to the mean (3145), leading to a coefficient of variation value >> 1. The relatively normal median (284) further suggests outliers to be impacting the mean and standard deviation, since median primarily depends on the order of the data.\n",
    "\n",
    "A better way to evaluate the AOV would be to omit the outliers by filtering the dataset to include only IQR values, and then calculating the AOV."
   ]
  },
  {
   "cell_type": "markdown",
   "id": "4028b7e4",
   "metadata": {},
   "source": [
    "## Filter Dataset to Include IQR Values Only"
   ]
  },
  {
   "cell_type": "code",
   "execution_count": 87,
   "id": "4e88e114",
   "metadata": {},
   "outputs": [],
   "source": [
    "# Filter dataset to include only middle 50% range\n",
    "pre_iqr = np.array(df['order_amount'])\n",
    "q3, q1 = np.percentile(pre_iqr, [75 ,25])\n",
    "iqr_df = df[(df['order_amount'] > q1) & (df['order_amount'] < q3)]"
   ]
  },
  {
   "cell_type": "markdown",
   "id": "7061e8fb",
   "metadata": {},
   "source": [
    "## Metrics from Filtered Dataset"
   ]
  },
  {
   "cell_type": "code",
   "execution_count": 91,
   "id": "89d3aeed",
   "metadata": {},
   "outputs": [
    {
     "data": {
      "text/plain": [
       "count    2451.000000\n",
       "mean      275.412893\n",
       "std        65.732992\n",
       "min       164.000000\n",
       "25%       224.000000\n",
       "50%       284.000000\n",
       "75%       328.000000\n",
       "max       387.000000\n",
       "Name: order_amount, dtype: float64"
      ]
     },
     "execution_count": 91,
     "metadata": {},
     "output_type": "execute_result"
    }
   ],
   "source": [
    "# Reobserving metrics and spread\n",
    "iqr_df['order_amount'].describe()"
   ]
  },
  {
   "cell_type": "code",
   "execution_count": 89,
   "id": "205b60e9",
   "metadata": {},
   "outputs": [
    {
     "name": "stdout",
     "output_type": "stream",
     "text": [
      "median:  284.0\n"
     ]
    }
   ],
   "source": [
    "# Confirming median\n",
    "print('median: ', np.median(iqr_df['order_amount']))"
   ]
  },
  {
   "cell_type": "markdown",
   "id": "69e9e23d",
   "metadata": {},
   "source": [
    "<font color='red'>Conclusion:</font> The results above confirm that the data was skewed by outliers since the metrics and spread from the IQR filtered dataset shows much more acceptable values for standard deviation (65.7), mean (275), and a coefficient of variation value < 1."
   ]
  }
 ],
 "metadata": {
  "kernelspec": {
   "display_name": "Python 3 (ipykernel)",
   "language": "python",
   "name": "python3"
  },
  "language_info": {
   "codemirror_mode": {
    "name": "ipython",
    "version": 3
   },
   "file_extension": ".py",
   "mimetype": "text/x-python",
   "name": "python",
   "nbconvert_exporter": "python",
   "pygments_lexer": "ipython3",
   "version": "3.9.7"
  }
 },
 "nbformat": 4,
 "nbformat_minor": 5
}
